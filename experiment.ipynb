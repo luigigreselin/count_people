{
 "cells": [
  {
   "cell_type": "code",
   "execution_count": 2,
   "metadata": {},
   "outputs": [],
   "source": [
    "from ultralytics import YOLO, SAM\n",
    "import cv2\n",
    "\n",
    "\n",
    "yolo = YOLO(\"yolov8n.pt\")  # load an official detection model\n",
    "sam2 = SAM(\"Aerial_Vision_Analysis_Tool_v1.0/backend/model/sam2_b.pt\")\n",
    "\n",
    "# results = yolo.predict(source=\"0\", show=True, classes=[0], conf=0.8)  # Display preds. Accepts all YOLO predict arguments"
   ]
  },
  {
   "cell_type": "code",
   "execution_count": 3,
   "metadata": {},
   "outputs": [],
   "source": [
    "path_to_video = '/Users/luigi.greselin/Downloads/464248_pedestrians_walking_UK_200207London Streets14k014720p5000br.mp4'"
   ]
  },
  {
   "cell_type": "markdown",
   "metadata": {},
   "source": [
    "# Experiment with poitn prompting"
   ]
  },
  {
   "cell_type": "code",
   "execution_count": null,
   "metadata": {},
   "outputs": [],
   "source": [
    "\n",
    "cap = cv2.VideoCapture(path_to_video)\n",
    "cap.set(3, 1280)\n",
    "cap.set(4, 720)\n",
    "\n",
    "output_video_path = \"output_videos/processed_video.mp4\"\n",
    "\n",
    "\n",
    "fps = int(cap.get(cv2.CAP_PROP_FPS))\n",
    "width = int(cap.get(cv2.CAP_PROP_FRAME_WIDTH))\n",
    "height = int(cap.get(cv2.CAP_PROP_FRAME_HEIGHT))\n",
    "fourcc = cv2.VideoWriter_fourcc(*'mp4v')\n",
    "out = cv2.VideoWriter(output_video_path, fourcc, fps, (width, height))\n",
    "\n",
    "\n",
    "while True:\n",
    "    success, img = cap.read()\n",
    "    if success:\n",
    "\n",
    "        results_detection = yolo(img, classes=[0], conf=0.7, show=True, verbose=True)\n",
    "        for detection in results_detection:\n",
    "            boxes = detection.boxes\n",
    "            for box in boxes:\n",
    "                x1, y1, x2, y2 = box.xyxy[0]\n",
    "                x1, y1, x2, y2 = int(x1), int(y1), int(x2), int(y2)\n",
    "                centroid_x = ((x1 + x2)//2) - x1 \n",
    "                centroid_y = ((y1 + y2)//2) - y1\n",
    "\n",
    "                object_crop = img[y1:y2, x1:x2, :]\n",
    "                results_segmentation = sam2(object_crop, points=[centroid_x, centroid_y], labels=[1])\n",
    "                for segmentation in results_segmentation:\n",
    "                    segmented_object = segmentation.plot() \n",
    "                    img[y1:y2, x1:x2] = segmented_object\n",
    "        cv2.imshow('SAM2 + detection', img)\n",
    "        out.write(img)\n",
    "\n",
    "    else:\n",
    "        break\n",
    "\n",
    "cap.release()\n",
    "cv2.destroyAllWindows()"
   ]
  },
  {
   "cell_type": "markdown",
   "metadata": {},
   "source": [
    "# Experiment with box prompting"
   ]
  },
  {
   "cell_type": "code",
   "execution_count": null,
   "metadata": {},
   "outputs": [],
   "source": [
    "\n",
    "cap = cv2.VideoCapture(path_to_video)\n",
    "cap.set(3, 1280)\n",
    "cap.set(4, 720)\n",
    "\n",
    "output_video_path = \"output_videos/processed_box_video.mp4\"\n",
    "\n",
    "\n",
    "fps = int(cap.get(cv2.CAP_PROP_FPS))\n",
    "width = int(cap.get(cv2.CAP_PROP_FRAME_WIDTH))\n",
    "height = int(cap.get(cv2.CAP_PROP_FRAME_HEIGHT))\n",
    "fourcc = cv2.VideoWriter_fourcc(*'mp4v')\n",
    "out = cv2.VideoWriter(output_video_path, fourcc, fps, (width, height))\n",
    "\n",
    "\n",
    "while True:\n",
    "    success, img = cap.read()\n",
    "    if success:\n",
    "\n",
    "        results_detection = yolo(img, classes=[0], conf=0.7, show=True, verbose=False)\n",
    "        for detection in results_detection:\n",
    "            boxes = detection.boxes\n",
    "            boxes_list = []\n",
    "            for box in boxes:\n",
    "                x1, y1, x2, y2 = box.xyxy[0]\n",
    "                x1, y1, x2, y2 = int(x1), int(y1), int(x2), int(y2)\n",
    "                boxes_list.append((x1, y1, x2, y2))\n",
    "            results_segmentation = sam2(img, bboxes=boxes_list)\n",
    "            for segmentation in results_segmentation:\n",
    "                segmented_object = segmentation.plot()  \n",
    "                img = cv2.addWeighted(img, 0.6, segmented_object, 0.4, 0)  \n",
    "\n",
    "        cv2.imshow('SAM2 + detection', img)\n",
    "        out.write(img)\n",
    "\n",
    "        \n",
    "\n",
    "    else:\n",
    "        break\n",
    "\n",
    "cap.release()\n",
    "cv2.destroyAllWindows()"
   ]
  },
  {
   "cell_type": "code",
   "execution_count": null,
   "metadata": {},
   "outputs": [],
   "source": []
  },
  {
   "cell_type": "code",
   "execution_count": null,
   "metadata": {},
   "outputs": [],
   "source": []
  }
 ],
 "metadata": {
  "kernelspec": {
   "display_name": "count-people-dVW4074F-py3.11",
   "language": "python",
   "name": "python3"
  },
  "language_info": {
   "codemirror_mode": {
    "name": "ipython",
    "version": 3
   },
   "file_extension": ".py",
   "mimetype": "text/x-python",
   "name": "python",
   "nbconvert_exporter": "python",
   "pygments_lexer": "ipython3",
   "version": "3.11.9"
  }
 },
 "nbformat": 4,
 "nbformat_minor": 2
}
