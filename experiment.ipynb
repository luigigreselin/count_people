{
 "cells": [
  {
   "cell_type": "code",
   "execution_count": 3,
   "metadata": {},
   "outputs": [],
   "source": [
    "from ultralytics import YOLO\n",
    "\n",
    "model = YOLO(\"yolov8l.pt\")  # load an official detection model\n",
    "# results = model.predict(source=\"0\", show=True, classes=[0], conf=0.8)  # Display preds. Accepts all YOLO predict arguments\n"
   ]
  },
  {
   "cell_type": "code",
   "execution_count": null,
   "metadata": {},
   "outputs": [],
   "source": [
    "import cv2\n",
    "\n",
    "# URL of the stream\n",
    "stream_url ='https://hd-auth.skylinewebcams.com/live.m3u8?a=sg5s64egv67uj3otf3vs51cvv6' # -> https://www.skylinewebcams.com/en/webcam/italia/lazio/roma/piazza-di-spagna.html\n",
    "\n",
    "cap = cv2.VideoCapture(stream_url)\n",
    "cap.set(cv2.CAP_PROP_FRAME_WIDTH, 1280)\n",
    "cap.set(cv2.CAP_PROP_FRAME_HEIGHT, 720)\n",
    "if not cap.isOpened():\n",
    "    print(\"Error: Could not open video stream\")\n",
    "else:\n",
    "    while True:\n",
    "        ret, frame = cap.read()\n",
    "        if not ret:\n",
    "            print(\"Error: Failed to retrieve frame\")\n",
    "            break\n",
    "        rgb_frame = cv2.cvtColor(frame, cv2.COLOR_BGR2RGB)\n",
    "        enhanced_frame = cv2.convertScaleAbs(frame, alpha=1.2, beta=50)\n",
    "        results = model(enhanced_frame)\n",
    "\n",
    "        annotated_frame = results[0].plot()\n",
    "        cv2.imshow('YOLOv8 Live Stream', annotated_frame)\n",
    "\n",
    "        if cv2.waitKey(1) & 0xFF == ord('q'):\n",
    "            break\n",
    "\n",
    "cap.release()\n",
    "cv2.destroyAllWindows()\n"
   ]
  }
 ],
 "metadata": {
  "kernelspec": {
   "display_name": "count-people-dVW4074F-py3.11",
   "language": "python",
   "name": "python3"
  },
  "language_info": {
   "codemirror_mode": {
    "name": "ipython",
    "version": 3
   },
   "file_extension": ".py",
   "mimetype": "text/x-python",
   "name": "python",
   "nbconvert_exporter": "python",
   "pygments_lexer": "ipython3",
   "version": "3.11.9"
  }
 },
 "nbformat": 4,
 "nbformat_minor": 2
}
