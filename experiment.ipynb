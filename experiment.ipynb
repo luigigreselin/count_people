{
 "cells": [
  {
   "cell_type": "code",
   "execution_count": null,
   "metadata": {},
   "outputs": [],
   "source": [
    "from ultralytics import YOLO\n",
    "\n",
    "model = YOLO(\"yolov8n.pt\")  # load an official detection model\n",
    "results = model.predict(source=\"0\", show=True, classes=[0], conf=0.8)  # Display preds. Accepts all YOLO predict arguments\n"
   ]
  }
 ],
 "metadata": {
  "kernelspec": {
   "display_name": "count-people-dVW4074F-py3.11",
   "language": "python",
   "name": "python3"
  },
  "language_info": {
   "codemirror_mode": {
    "name": "ipython",
    "version": 3
   },
   "file_extension": ".py",
   "mimetype": "text/x-python",
   "name": "python",
   "nbconvert_exporter": "python",
   "pygments_lexer": "ipython3",
   "version": "3.11.9"
  }
 },
 "nbformat": 4,
 "nbformat_minor": 2
}
